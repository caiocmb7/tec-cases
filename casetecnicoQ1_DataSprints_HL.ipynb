{
  "nbformat": 4,
  "nbformat_minor": 0,
  "metadata": {
    "colab": {
      "name": "casetecnicoQ1: DataSprints-HL.ipynb",
      "provenance": [],
      "collapsed_sections": []
    },
    "kernelspec": {
      "name": "python3",
      "display_name": "Python 3"
    },
    "language_info": {
      "name": "python"
    }
  },
  "cells": [
    {
      "cell_type": "markdown",
      "metadata": {
        "id": "gQ-MUqfHA79v"
      },
      "source": [
        "Pergunta da Questão: \n",
        "\n",
        "\"1 - Desenvolva um script em python para retornar o primeiro valor não repetido de uma string.\n",
        "\n",
        "Exemplo:\n",
        "\n",
        "input -> 'teste'\n",
        "\n",
        "output -> 's'\n",
        "\n",
        "input -> 'engenharia de dados'\n",
        "\n",
        "output -> 'g'\""
      ]
    },
    {
      "cell_type": "markdown",
      "metadata": {
        "id": "LbhPZFP6A4CH"
      },
      "source": [
        "# **Construção da Resposta**"
      ]
    },
    {
      "cell_type": "code",
      "metadata": {
        "colab": {
          "base_uri": "https://localhost:8080/"
        },
        "id": "P0zrr3Zkv_M_",
        "outputId": "55d8e113-b90f-4044-b942-b4d7962e4e63"
      },
      "source": [
        "frase = input(\"Digite uma frase: \")"
      ],
      "execution_count": 96,
      "outputs": [
        {
          "output_type": "stream",
          "text": [
            "Digite uma frase: engenharia de dados\n"
          ],
          "name": "stdout"
        }
      ]
    },
    {
      "cell_type": "code",
      "metadata": {
        "colab": {
          "base_uri": "https://localhost:8080/"
        },
        "id": "og6Q9kW6C1WQ",
        "outputId": "6948a452-af35-4a13-89d6-5c243352735f"
      },
      "source": [
        "print(frase)"
      ],
      "execution_count": 97,
      "outputs": [
        {
          "output_type": "stream",
          "text": [
            "engenharia de dados\n"
          ],
          "name": "stdout"
        }
      ]
    },
    {
      "cell_type": "markdown",
      "metadata": {
        "id": "ZgwQL8-3-Mqd"
      },
      "source": [
        "No caso, iremos criar duas novas listas, uma para transformar a string em lista e uma outra para adicionar as letras que só aparecem uma vez na lista criada. \n",
        "\n",
        "Dessa forma, poderemos usar as propriedades das listas e tornar a questão mais facil de ser resolvida."
      ]
    },
    {
      "cell_type": "code",
      "metadata": {
        "colab": {
          "base_uri": "https://localhost:8080/"
        },
        "id": "QHlwXlLyyrmY",
        "outputId": "905078af-cc57-4c8b-da1d-b3a394eb4fba"
      },
      "source": [
        "lista_add = []\n",
        "indice = []\n",
        "\n",
        "for i in range(len(frase)):\n",
        "  lista_add.append(frase[i])\n",
        "\n",
        "for j in range(len(frase)):\n",
        "  if (lista_add.count(frase[j]) == 1):\n",
        "    indice.append(frase[j])\n",
        "\n",
        "print(indice[0])"
      ],
      "execution_count": 98,
      "outputs": [
        {
          "output_type": "stream",
          "text": [
            "g\n"
          ],
          "name": "stdout"
        }
      ]
    },
    {
      "cell_type": "code",
      "metadata": {
        "colab": {
          "base_uri": "https://localhost:8080/"
        },
        "id": "dhdnSoxNbA3p",
        "outputId": "013b2698-6309-4abf-9f29-ab6987f10341"
      },
      "source": [
        "print(indice) #caso seja necessario analisar a lista \"indice\"\n",
        "print(\"\\nO primeiro valor não repetido é:\", indice[0]) #para demonstrar melhor"
      ],
      "execution_count": 99,
      "outputs": [
        {
          "output_type": "stream",
          "text": [
            "['g', 'h', 'r', 'i', 'o', 's']\n",
            "\n",
            "O primeiro valor não repetido é: g\n"
          ],
          "name": "stdout"
        }
      ]
    },
    {
      "cell_type": "markdown",
      "metadata": {
        "id": "C7G6hORfBe4P"
      },
      "source": [
        "Então, basicamente, a lista \"indice\" retorna as letras (ou valores) que só apareceram uma vez na frase digitada.\n",
        "\n",
        "Portanto, como ela é adicionada em ordem, então a primeira letra na lista \"indice\" será a primeira(o) letra/valor não repetida."
      ]
    }
  ]
}