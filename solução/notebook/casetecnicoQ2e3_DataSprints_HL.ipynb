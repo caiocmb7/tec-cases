{
  "nbformat": 4,
  "nbformat_minor": 0,
  "metadata": {
    "colab": {
      "name": "casetecnicoQ2e3: DataSprints-HL.ipynb",
      "provenance": []
    },
    "kernelspec": {
      "name": "python3",
      "display_name": "Python 3"
    },
    "language_info": {
      "name": "python"
    }
  },
  "cells": [
    {
      "cell_type": "markdown",
      "metadata": {
        "id": "JVxgyMWKFaQn"
      },
      "source": [
        "Pergunta da Questão:\n",
        "\n",
        "\"2 - O conjunto de dados flor Íris ou conjunto de dados Íris de Fisher é um conjunto de dados\n",
        "multivariados introduzido pelo estatístico e biólogo britânico Ronald Fisher em seu artigo de\n",
        "1936.\n",
        "Desenvolva um script em python para encontrar a média do petal_length de cada espécie\n",
        "presente no dataset.\n",
        "Utilize a função pd.read_csv() para baixar o conteúdo disponível na url:\"\n",
        "https://raw.githubusercontent.com/mwaskom/seaborn-data/master/iris.csv\n",
        "\n",
        "Questão Extra: \n",
        "\n",
        "\"Na segunda questão, é um diferencial plotar gráficos para visualização dos resultados\"\n"
      ]
    },
    {
      "cell_type": "markdown",
      "metadata": {
        "id": "3N3SzqOJm2G6"
      },
      "source": [
        "# **Construção da Resposta**"
      ]
    },
    {
      "cell_type": "code",
      "metadata": {
        "id": "HwQWcga5cCG6"
      },
      "source": [
        "import pandas as pd\n",
        "import matplotlib.pyplot as plt\n",
        "import seaborn as sns"
      ],
      "execution_count": 125,
      "outputs": []
    },
    {
      "cell_type": "markdown",
      "metadata": {
        "id": "KCZsAzhEcpvJ"
      },
      "source": [
        "Leitura do csv"
      ]
    },
    {
      "cell_type": "code",
      "metadata": {
        "id": "jeRsSHPocrPd"
      },
      "source": [
        "df_iris = pd.read_csv(\"/content/iris.csv\", sep = \",\")"
      ],
      "execution_count": 126,
      "outputs": []
    },
    {
      "cell_type": "code",
      "metadata": {
        "colab": {
          "base_uri": "https://localhost:8080/",
          "height": 419
        },
        "id": "9U9DAE8bfrlZ",
        "outputId": "2e31c82d-c413-4339-a80e-dadf2ffb0f50"
      },
      "source": [
        "df_iris"
      ],
      "execution_count": 127,
      "outputs": [
        {
          "output_type": "execute_result",
          "data": {
            "text/html": [
              "<div>\n",
              "<style scoped>\n",
              "    .dataframe tbody tr th:only-of-type {\n",
              "        vertical-align: middle;\n",
              "    }\n",
              "\n",
              "    .dataframe tbody tr th {\n",
              "        vertical-align: top;\n",
              "    }\n",
              "\n",
              "    .dataframe thead th {\n",
              "        text-align: right;\n",
              "    }\n",
              "</style>\n",
              "<table border=\"1\" class=\"dataframe\">\n",
              "  <thead>\n",
              "    <tr style=\"text-align: right;\">\n",
              "      <th></th>\n",
              "      <th>sepal_length</th>\n",
              "      <th>sepal_width</th>\n",
              "      <th>petal_length</th>\n",
              "      <th>petal_width</th>\n",
              "      <th>species</th>\n",
              "    </tr>\n",
              "  </thead>\n",
              "  <tbody>\n",
              "    <tr>\n",
              "      <th>0</th>\n",
              "      <td>5.1</td>\n",
              "      <td>3.5</td>\n",
              "      <td>1.4</td>\n",
              "      <td>0.2</td>\n",
              "      <td>setosa</td>\n",
              "    </tr>\n",
              "    <tr>\n",
              "      <th>1</th>\n",
              "      <td>4.9</td>\n",
              "      <td>3.0</td>\n",
              "      <td>1.4</td>\n",
              "      <td>0.2</td>\n",
              "      <td>setosa</td>\n",
              "    </tr>\n",
              "    <tr>\n",
              "      <th>2</th>\n",
              "      <td>4.7</td>\n",
              "      <td>3.2</td>\n",
              "      <td>1.3</td>\n",
              "      <td>0.2</td>\n",
              "      <td>setosa</td>\n",
              "    </tr>\n",
              "    <tr>\n",
              "      <th>3</th>\n",
              "      <td>4.6</td>\n",
              "      <td>3.1</td>\n",
              "      <td>1.5</td>\n",
              "      <td>0.2</td>\n",
              "      <td>setosa</td>\n",
              "    </tr>\n",
              "    <tr>\n",
              "      <th>4</th>\n",
              "      <td>5.0</td>\n",
              "      <td>3.6</td>\n",
              "      <td>1.4</td>\n",
              "      <td>0.2</td>\n",
              "      <td>setosa</td>\n",
              "    </tr>\n",
              "    <tr>\n",
              "      <th>...</th>\n",
              "      <td>...</td>\n",
              "      <td>...</td>\n",
              "      <td>...</td>\n",
              "      <td>...</td>\n",
              "      <td>...</td>\n",
              "    </tr>\n",
              "    <tr>\n",
              "      <th>145</th>\n",
              "      <td>6.7</td>\n",
              "      <td>3.0</td>\n",
              "      <td>5.2</td>\n",
              "      <td>2.3</td>\n",
              "      <td>virginica</td>\n",
              "    </tr>\n",
              "    <tr>\n",
              "      <th>146</th>\n",
              "      <td>6.3</td>\n",
              "      <td>2.5</td>\n",
              "      <td>5.0</td>\n",
              "      <td>1.9</td>\n",
              "      <td>virginica</td>\n",
              "    </tr>\n",
              "    <tr>\n",
              "      <th>147</th>\n",
              "      <td>6.5</td>\n",
              "      <td>3.0</td>\n",
              "      <td>5.2</td>\n",
              "      <td>2.0</td>\n",
              "      <td>virginica</td>\n",
              "    </tr>\n",
              "    <tr>\n",
              "      <th>148</th>\n",
              "      <td>6.2</td>\n",
              "      <td>3.4</td>\n",
              "      <td>5.4</td>\n",
              "      <td>2.3</td>\n",
              "      <td>virginica</td>\n",
              "    </tr>\n",
              "    <tr>\n",
              "      <th>149</th>\n",
              "      <td>5.9</td>\n",
              "      <td>3.0</td>\n",
              "      <td>5.1</td>\n",
              "      <td>1.8</td>\n",
              "      <td>virginica</td>\n",
              "    </tr>\n",
              "  </tbody>\n",
              "</table>\n",
              "<p>150 rows × 5 columns</p>\n",
              "</div>"
            ],
            "text/plain": [
              "     sepal_length  sepal_width  petal_length  petal_width    species\n",
              "0             5.1          3.5           1.4          0.2     setosa\n",
              "1             4.9          3.0           1.4          0.2     setosa\n",
              "2             4.7          3.2           1.3          0.2     setosa\n",
              "3             4.6          3.1           1.5          0.2     setosa\n",
              "4             5.0          3.6           1.4          0.2     setosa\n",
              "..            ...          ...           ...          ...        ...\n",
              "145           6.7          3.0           5.2          2.3  virginica\n",
              "146           6.3          2.5           5.0          1.9  virginica\n",
              "147           6.5          3.0           5.2          2.0  virginica\n",
              "148           6.2          3.4           5.4          2.3  virginica\n",
              "149           5.9          3.0           5.1          1.8  virginica\n",
              "\n",
              "[150 rows x 5 columns]"
            ]
          },
          "metadata": {
            "tags": []
          },
          "execution_count": 127
        }
      ]
    },
    {
      "cell_type": "markdown",
      "metadata": {
        "id": "bym01wGkf1SB"
      },
      "source": [
        "Encontrar a média do petal_length de cada espécie\n",
        "presente no dataset"
      ]
    },
    {
      "cell_type": "code",
      "metadata": {
        "colab": {
          "base_uri": "https://localhost:8080/"
        },
        "id": "ng0-CXgZf2Vu",
        "outputId": "866fd8f6-4615-497d-92fe-956899baf93c"
      },
      "source": [
        "calc_media = df_iris.groupby(df_iris[\"species\"])[\"petal_length\"].mean()\n",
        "calc_media"
      ],
      "execution_count": 128,
      "outputs": [
        {
          "output_type": "execute_result",
          "data": {
            "text/plain": [
              "species\n",
              "setosa        1.462\n",
              "versicolor    4.260\n",
              "virginica     5.552\n",
              "Name: petal_length, dtype: float64"
            ]
          },
          "metadata": {
            "tags": []
          },
          "execution_count": 128
        }
      ]
    },
    {
      "cell_type": "markdown",
      "metadata": {
        "id": "00MQKO8NgQda"
      },
      "source": [
        "Para ser mais detalhado nas contas, iremos fazer uma soma e depois dividir => mesma ideia de usar apenas o .mean()"
      ]
    },
    {
      "cell_type": "code",
      "metadata": {
        "colab": {
          "base_uri": "https://localhost:8080/"
        },
        "id": "iyOIemVvgXdU",
        "outputId": "e4ae1300-be18-4c5e-a24d-36265a0cf8d1"
      },
      "source": [
        "calc_soma = df_iris.groupby(df_iris[\"species\"])[\"petal_length\"].sum()\n",
        "calc_soma"
      ],
      "execution_count": 129,
      "outputs": [
        {
          "output_type": "execute_result",
          "data": {
            "text/plain": [
              "species\n",
              "setosa         73.1\n",
              "versicolor    213.0\n",
              "virginica     277.6\n",
              "Name: petal_length, dtype: float64"
            ]
          },
          "metadata": {
            "tags": []
          },
          "execution_count": 129
        }
      ]
    },
    {
      "cell_type": "code",
      "metadata": {
        "colab": {
          "base_uri": "https://localhost:8080/"
        },
        "id": "beaNtGwcsEex",
        "outputId": "5007b4f0-21a6-426a-ee30-b2f54abb156a"
      },
      "source": [
        "df_iris.species.value_counts() #função para analisar quantos casos existem de cada uma das espécies"
      ],
      "execution_count": 130,
      "outputs": [
        {
          "output_type": "execute_result",
          "data": {
            "text/plain": [
              "virginica     50\n",
              "setosa        50\n",
              "versicolor    50\n",
              "Name: species, dtype: int64"
            ]
          },
          "metadata": {
            "tags": []
          },
          "execution_count": 130
        }
      ]
    },
    {
      "cell_type": "markdown",
      "metadata": {
        "id": "wvc6FGNlILNB"
      },
      "source": [
        "Logo, existem 50 casos para cada espécie: [\"setosa\", \"versicolor\", \"virginica\"]"
      ]
    },
    {
      "cell_type": "code",
      "metadata": {
        "colab": {
          "base_uri": "https://localhost:8080/"
        },
        "id": "32ZFLsO9gfCC",
        "outputId": "5fce1d84-35e9-4718-cb8d-640015ca633f"
      },
      "source": [
        "calc_media2 = calc_soma / 50\n",
        "calc_media2"
      ],
      "execution_count": 131,
      "outputs": [
        {
          "output_type": "execute_result",
          "data": {
            "text/plain": [
              "species\n",
              "setosa        1.462\n",
              "versicolor    4.260\n",
              "virginica     5.552\n",
              "Name: petal_length, dtype: float64"
            ]
          },
          "metadata": {
            "tags": []
          },
          "execution_count": 131
        }
      ]
    },
    {
      "cell_type": "markdown",
      "metadata": {
        "id": "P9Je6uTJrtf3"
      },
      "source": [
        "**Percebe-se, então, que os valores estão corretos!**"
      ]
    },
    {
      "cell_type": "markdown",
      "metadata": {
        "id": "SxzK6uijmC3b"
      },
      "source": [
        "# **Visualização dos Dados - Extra!**"
      ]
    },
    {
      "cell_type": "markdown",
      "metadata": {
        "id": "MXJx9ilDmE8e"
      },
      "source": [
        "Irei separar os dataframes para analisar melhor cada espécie."
      ]
    },
    {
      "cell_type": "code",
      "metadata": {
        "colab": {
          "base_uri": "https://localhost:8080/"
        },
        "id": "RTlcs8uIlxUM",
        "outputId": "e0d244a0-9402-4f3c-f717-42845e6334a9"
      },
      "source": [
        "df_iris.species.unique() #analisar os nomes que contém na coluna \"species\""
      ],
      "execution_count": 132,
      "outputs": [
        {
          "output_type": "execute_result",
          "data": {
            "text/plain": [
              "array(['setosa', 'versicolor', 'virginica'], dtype=object)"
            ]
          },
          "metadata": {
            "tags": []
          },
          "execution_count": 132
        }
      ]
    },
    {
      "cell_type": "code",
      "metadata": {
        "colab": {
          "base_uri": "https://localhost:8080/",
          "height": 173
        },
        "id": "opuizbtkjmmL",
        "outputId": "605f0113-89b1-4b57-c13e-27ef200098dc"
      },
      "source": [
        "filtro_Setosa = df_iris.species == \"setosa\"\n",
        "df_setosa = df_iris.loc[filtro_Setosa, [\"petal_length\", \"species\"]]\n",
        "df_setosa.head(4) #analisando alguns dados"
      ],
      "execution_count": 133,
      "outputs": [
        {
          "output_type": "execute_result",
          "data": {
            "text/html": [
              "<div>\n",
              "<style scoped>\n",
              "    .dataframe tbody tr th:only-of-type {\n",
              "        vertical-align: middle;\n",
              "    }\n",
              "\n",
              "    .dataframe tbody tr th {\n",
              "        vertical-align: top;\n",
              "    }\n",
              "\n",
              "    .dataframe thead th {\n",
              "        text-align: right;\n",
              "    }\n",
              "</style>\n",
              "<table border=\"1\" class=\"dataframe\">\n",
              "  <thead>\n",
              "    <tr style=\"text-align: right;\">\n",
              "      <th></th>\n",
              "      <th>petal_length</th>\n",
              "      <th>species</th>\n",
              "    </tr>\n",
              "  </thead>\n",
              "  <tbody>\n",
              "    <tr>\n",
              "      <th>0</th>\n",
              "      <td>1.4</td>\n",
              "      <td>setosa</td>\n",
              "    </tr>\n",
              "    <tr>\n",
              "      <th>1</th>\n",
              "      <td>1.4</td>\n",
              "      <td>setosa</td>\n",
              "    </tr>\n",
              "    <tr>\n",
              "      <th>2</th>\n",
              "      <td>1.3</td>\n",
              "      <td>setosa</td>\n",
              "    </tr>\n",
              "    <tr>\n",
              "      <th>3</th>\n",
              "      <td>1.5</td>\n",
              "      <td>setosa</td>\n",
              "    </tr>\n",
              "  </tbody>\n",
              "</table>\n",
              "</div>"
            ],
            "text/plain": [
              "   petal_length species\n",
              "0           1.4  setosa\n",
              "1           1.4  setosa\n",
              "2           1.3  setosa\n",
              "3           1.5  setosa"
            ]
          },
          "metadata": {
            "tags": []
          },
          "execution_count": 133
        }
      ]
    },
    {
      "cell_type": "code",
      "metadata": {
        "colab": {
          "base_uri": "https://localhost:8080/",
          "height": 173
        },
        "id": "xCDIYQS5l4gl",
        "outputId": "bfdcea1c-f581-4ffc-86fc-bd05d15f68fc"
      },
      "source": [
        "filtro_Versicolor = df_iris.species == \"versicolor\"\n",
        "df_versicolor = df_iris.loc[filtro_Versicolor, [\"petal_length\", \"species\"]]\n",
        "df_versicolor.sample(4) #analisando alguns dados"
      ],
      "execution_count": 134,
      "outputs": [
        {
          "output_type": "execute_result",
          "data": {
            "text/html": [
              "<div>\n",
              "<style scoped>\n",
              "    .dataframe tbody tr th:only-of-type {\n",
              "        vertical-align: middle;\n",
              "    }\n",
              "\n",
              "    .dataframe tbody tr th {\n",
              "        vertical-align: top;\n",
              "    }\n",
              "\n",
              "    .dataframe thead th {\n",
              "        text-align: right;\n",
              "    }\n",
              "</style>\n",
              "<table border=\"1\" class=\"dataframe\">\n",
              "  <thead>\n",
              "    <tr style=\"text-align: right;\">\n",
              "      <th></th>\n",
              "      <th>petal_length</th>\n",
              "      <th>species</th>\n",
              "    </tr>\n",
              "  </thead>\n",
              "  <tbody>\n",
              "    <tr>\n",
              "      <th>57</th>\n",
              "      <td>3.3</td>\n",
              "      <td>versicolor</td>\n",
              "    </tr>\n",
              "    <tr>\n",
              "      <th>89</th>\n",
              "      <td>4.0</td>\n",
              "      <td>versicolor</td>\n",
              "    </tr>\n",
              "    <tr>\n",
              "      <th>74</th>\n",
              "      <td>4.3</td>\n",
              "      <td>versicolor</td>\n",
              "    </tr>\n",
              "    <tr>\n",
              "      <th>84</th>\n",
              "      <td>4.5</td>\n",
              "      <td>versicolor</td>\n",
              "    </tr>\n",
              "  </tbody>\n",
              "</table>\n",
              "</div>"
            ],
            "text/plain": [
              "    petal_length     species\n",
              "57           3.3  versicolor\n",
              "89           4.0  versicolor\n",
              "74           4.3  versicolor\n",
              "84           4.5  versicolor"
            ]
          },
          "metadata": {
            "tags": []
          },
          "execution_count": 134
        }
      ]
    },
    {
      "cell_type": "code",
      "metadata": {
        "colab": {
          "base_uri": "https://localhost:8080/",
          "height": 173
        },
        "id": "U6W1jaf7lNjE",
        "outputId": "92172d30-fe89-43a2-e2d9-67876d1ab626"
      },
      "source": [
        "filtro_Virginica = df_iris.species == \"virginica\"\n",
        "df_virginica = df_iris.loc[filtro_Virginica, [\"petal_length\", \"species\"]]\n",
        "df_virginica.tail(4) #analisando alguns dados"
      ],
      "execution_count": 135,
      "outputs": [
        {
          "output_type": "execute_result",
          "data": {
            "text/html": [
              "<div>\n",
              "<style scoped>\n",
              "    .dataframe tbody tr th:only-of-type {\n",
              "        vertical-align: middle;\n",
              "    }\n",
              "\n",
              "    .dataframe tbody tr th {\n",
              "        vertical-align: top;\n",
              "    }\n",
              "\n",
              "    .dataframe thead th {\n",
              "        text-align: right;\n",
              "    }\n",
              "</style>\n",
              "<table border=\"1\" class=\"dataframe\">\n",
              "  <thead>\n",
              "    <tr style=\"text-align: right;\">\n",
              "      <th></th>\n",
              "      <th>petal_length</th>\n",
              "      <th>species</th>\n",
              "    </tr>\n",
              "  </thead>\n",
              "  <tbody>\n",
              "    <tr>\n",
              "      <th>146</th>\n",
              "      <td>5.0</td>\n",
              "      <td>virginica</td>\n",
              "    </tr>\n",
              "    <tr>\n",
              "      <th>147</th>\n",
              "      <td>5.2</td>\n",
              "      <td>virginica</td>\n",
              "    </tr>\n",
              "    <tr>\n",
              "      <th>148</th>\n",
              "      <td>5.4</td>\n",
              "      <td>virginica</td>\n",
              "    </tr>\n",
              "    <tr>\n",
              "      <th>149</th>\n",
              "      <td>5.1</td>\n",
              "      <td>virginica</td>\n",
              "    </tr>\n",
              "  </tbody>\n",
              "</table>\n",
              "</div>"
            ],
            "text/plain": [
              "     petal_length    species\n",
              "146           5.0  virginica\n",
              "147           5.2  virginica\n",
              "148           5.4  virginica\n",
              "149           5.1  virginica"
            ]
          },
          "metadata": {
            "tags": []
          },
          "execution_count": 135
        }
      ]
    },
    {
      "cell_type": "markdown",
      "metadata": {
        "id": "mIqDz-S0nR9d"
      },
      "source": [
        "**Gráficos!**"
      ]
    },
    {
      "cell_type": "markdown",
      "metadata": {
        "id": "OMTHXbO8tfD9"
      },
      "source": [
        "*Definição do estilo do gráfico*"
      ]
    },
    {
      "cell_type": "code",
      "metadata": {
        "id": "lOABKy6_tfd4"
      },
      "source": [
        "plt.style.use('ggplot')"
      ],
      "execution_count": 136,
      "outputs": []
    },
    {
      "cell_type": "code",
      "metadata": {
        "colab": {
          "base_uri": "https://localhost:8080/",
          "height": 317
        },
        "id": "DbNDS4isnTkB",
        "outputId": "145c1110-1a6a-400d-f85f-c15c67667215"
      },
      "source": [
        "df_iris.groupby(df_iris[\"species\"])[\"petal_length\"].mean().plot()\n",
        "plt.title(\"Gráfico da média petal_length versus species\")\n",
        "plt.xlabel(\"species\")\n",
        "plt.ylabel(\"petal_length\")"
      ],
      "execution_count": 137,
      "outputs": [
        {
          "output_type": "execute_result",
          "data": {
            "text/plain": [
              "Text(0, 0.5, 'petal_length')"
            ]
          },
          "metadata": {
            "tags": []
          },
          "execution_count": 137
        },
        {
          "output_type": "display_data",
          "data": {
            "image/png": "[encoded data removed]",
            "text/plain": [
              "<Figure size 432x288 with 1 Axes>"
            ]
          },
          "metadata": {
            "tags": []
          }
        }
      ]
    },
    {
      "cell_type": "code",
      "metadata": {
        "colab": {
          "base_uri": "https://localhost:8080/",
          "height": 356
        },
        "id": "aXJBX5CstmSv",
        "outputId": "5b2dae61-7700-45ea-bdf2-fe2c578ccca4"
      },
      "source": [
        "df_iris.groupby(df_iris[\"species\"])[\"petal_length\"].mean().plot.bar(color = \"purple\")\n",
        "plt.title(\"Gráfico da média petal_length versus species\")\n",
        "plt.xlabel(\"species\")\n",
        "plt.ylabel(\"petal_length\")"
      ],
      "execution_count": 138,
      "outputs": [
        {
          "output_type": "execute_result",
          "data": {
            "text/plain": [
              "Text(0, 0.5, 'petal_length')"
            ]
          },
          "metadata": {
            "tags": []
          },
          "execution_count": 138
        },
        {
          "output_type": "display_data",
          "data": {
            "image/png": "[encoded data removed]",
            "text/plain": [
              "<Figure size 432x288 with 1 Axes>"
            ]
          },
          "metadata": {
            "tags": []
          }
        }
      ]
    },
    {
      "cell_type": "code",
      "metadata": {
        "colab": {
          "base_uri": "https://localhost:8080/",
          "height": 299
        },
        "id": "UQhAOxpwHZYL",
        "outputId": "bbc22446-d01f-4a41-cab2-c17c14dbf608"
      },
      "source": [
        "sns.countplot(x = df_iris[\"species\"]) #quantidade de cada espécie"
      ],
      "execution_count": 139,
      "outputs": [
        {
          "output_type": "execute_result",
          "data": {
            "text/plain": [
              "<matplotlib.axes._subplots.AxesSubplot at 0x7fd282428f10>"
            ]
          },
          "metadata": {
            "tags": []
          },
          "execution_count": 139
        },
        {
          "output_type": "display_data",
          "data": {
            "image/png": "[encoded data removed]",
            "text/plain": [
              "<Figure size 432x288 with 1 Axes>"
            ]
          },
          "metadata": {
            "tags": []
          }
        }
      ]
    },
    {
      "cell_type": "code",
      "metadata": {
        "colab": {
          "base_uri": "https://localhost:8080/"
        },
        "id": "x1EGgMBzoDO6",
        "outputId": "1cc7d672-dd41-4ce0-e3ca-10a83f09bf12"
      },
      "source": [
        "df_setosa.groupby(df_setosa[\"species\"])[\"petal_length\"].value_counts() #analisar quais valores de petal_length existem na espécie == \"setosa\" e quantas vezes aparecem"
      ],
      "execution_count": 140,
      "outputs": [
        {
          "output_type": "execute_result",
          "data": {
            "text/plain": [
              "species  petal_length\n",
              "setosa   1.4             13\n",
              "         1.5             13\n",
              "         1.3              7\n",
              "         1.6              7\n",
              "         1.7              4\n",
              "         1.2              2\n",
              "         1.9              2\n",
              "         1.0              1\n",
              "         1.1              1\n",
              "Name: petal_length, dtype: int64"
            ]
          },
          "metadata": {
            "tags": []
          },
          "execution_count": 140
        }
      ]
    },
    {
      "cell_type": "code",
      "metadata": {
        "colab": {
          "base_uri": "https://localhost:8080/",
          "height": 317
        },
        "id": "m6mP5NlOoa0J",
        "outputId": "0a24bf24-85b1-4bd0-ad44-889b329840a4"
      },
      "source": [
        "df_setosa.groupby(df_setosa[\"species\"])[\"petal_length\"].plot(marker = \"x\")\n",
        "plt.title(\"Gráfico da petal_length versus espécie setosa\")\n",
        "plt.xlabel(\"species\")\n",
        "plt.ylabel(\"petal_length\")\n",
        "plt.legend()\n",
        "#plt.savefig(\"setosa.png\") para salvar o gráfico"
      ],
      "execution_count": 141,
      "outputs": [
        {
          "output_type": "execute_result",
          "data": {
            "text/plain": [
              "<matplotlib.legend.Legend at 0x7fd2824650d0>"
            ]
          },
          "metadata": {
            "tags": []
          },
          "execution_count": 141
        },
        {
          "output_type": "display_data",
          "data": {
            "image/png": "[encoded data removed]",
            "text/plain": [
              "<Figure size 432x288 with 1 Axes>"
            ]
          },
          "metadata": {
            "tags": []
          }
        }
      ]
    },
    {
      "cell_type": "code",
      "metadata": {
        "colab": {
          "base_uri": "https://localhost:8080/"
        },
        "id": "mTIiCl7kokqj",
        "outputId": "42406df3-ddb2-4c59-ec5c-9a3405799279"
      },
      "source": [
        "df_versicolor.groupby(df_versicolor[\"species\"])[\"petal_length\"].value_counts() #analisar quais valores de petal_length existem na espécie == \"versicolor\" e quantas vezes aparecem"
      ],
      "execution_count": 142,
      "outputs": [
        {
          "output_type": "execute_result",
          "data": {
            "text/plain": [
              "species     petal_length\n",
              "versicolor  4.5             7\n",
              "            4.0             5\n",
              "            4.7             5\n",
              "            4.2             4\n",
              "            4.4             4\n",
              "            3.9             3\n",
              "            4.1             3\n",
              "            4.6             3\n",
              "            3.3             2\n",
              "            3.5             2\n",
              "            4.3             2\n",
              "            4.8             2\n",
              "            4.9             2\n",
              "            3.0             1\n",
              "            3.6             1\n",
              "            3.7             1\n",
              "            3.8             1\n",
              "            5.0             1\n",
              "            5.1             1\n",
              "Name: petal_length, dtype: int64"
            ]
          },
          "metadata": {
            "tags": []
          },
          "execution_count": 142
        }
      ]
    },
    {
      "cell_type": "code",
      "metadata": {
        "colab": {
          "base_uri": "https://localhost:8080/",
          "height": 317
        },
        "id": "hv8qkrkLoqZG",
        "outputId": "06a1587c-cecd-4ac7-c0f4-2ecda383a274"
      },
      "source": [
        "df_versicolor.groupby(df_versicolor[\"species\"])[\"petal_length\"].plot(color = \"green\", marker = \"o\")\n",
        "plt.title(\"Gráfico da petal_length versus espécie versicolor\")\n",
        "plt.xlabel(\"species\")\n",
        "plt.ylabel(\"petal_length\")\n",
        "plt.legend()\n",
        "#plt.savefig(\"versicolor.png\") para salvar o gráfico"
      ],
      "execution_count": 143,
      "outputs": [
        {
          "output_type": "execute_result",
          "data": {
            "text/plain": [
              "<matplotlib.legend.Legend at 0x7fd280257150>"
            ]
          },
          "metadata": {
            "tags": []
          },
          "execution_count": 143
        },
        {
          "output_type": "display_data",
          "data": {
            "image/png": "[encoded data removed]",
            "text/plain": [
              "<Figure size 432x288 with 1 Axes>"
            ]
          },
          "metadata": {
            "tags": []
          }
        }
      ]
    },
    {
      "cell_type": "code",
      "metadata": {
        "colab": {
          "base_uri": "https://localhost:8080/"
        },
        "id": "zrpyVIdAow5w",
        "outputId": "2c2616b4-f92c-4fb1-9ec9-86f59db5eb49"
      },
      "source": [
        "df_virginica.groupby(df_virginica[\"species\"])[\"petal_length\"].value_counts() #analisar quais valores de petal_length existem na espécie == \"virginica\" e quantas vezes aparecem"
      ],
      "execution_count": 144,
      "outputs": [
        {
          "output_type": "execute_result",
          "data": {
            "text/plain": [
              "species    petal_length\n",
              "virginica  5.1             7\n",
              "           5.6             6\n",
              "           4.9             3\n",
              "           5.0             3\n",
              "           5.5             3\n",
              "           5.7             3\n",
              "           5.8             3\n",
              "           6.1             3\n",
              "           4.8             2\n",
              "           5.2             2\n",
              "           5.3             2\n",
              "           5.4             2\n",
              "           5.9             2\n",
              "           6.0             2\n",
              "           6.7             2\n",
              "           4.5             1\n",
              "           6.3             1\n",
              "           6.4             1\n",
              "           6.6             1\n",
              "           6.9             1\n",
              "Name: petal_length, dtype: int64"
            ]
          },
          "metadata": {
            "tags": []
          },
          "execution_count": 144
        }
      ]
    },
    {
      "cell_type": "code",
      "metadata": {
        "colab": {
          "base_uri": "https://localhost:8080/",
          "height": 317
        },
        "id": "Yyh5kdFIo3to",
        "outputId": "432044dc-4d44-4335-b2cd-2e7f3681c12d"
      },
      "source": [
        "df_virginica.groupby(df_virginica[\"species\"])[\"petal_length\"].plot(color = \"black\", marker = \"v\")\n",
        "plt.title(\"Gráfico da petal_length versus espécie virginica\")\n",
        "plt.xlabel(\"species\")\n",
        "plt.ylabel(\"petal_length\")\n",
        "plt.legend()\n",
        "#plt.savefig(\"virginica.png\") para salvar o gráfico"
      ],
      "execution_count": 145,
      "outputs": [
        {
          "output_type": "execute_result",
          "data": {
            "text/plain": [
              "<matplotlib.legend.Legend at 0x7fd2801d1450>"
            ]
          },
          "metadata": {
            "tags": []
          },
          "execution_count": 145
        },
        {
          "output_type": "display_data",
          "data": {
            "image/png": "[encoded data removed]",
            "text/plain": [
              "<Figure size 432x288 with 1 Axes>"
            ]
          },
          "metadata": {
            "tags": []
          }
        }
      ]
    },
    {
      "cell_type": "markdown",
      "metadata": {
        "id": "uLqlNOXvsYcQ"
      },
      "source": [
        "**Fazendo a junção dos 3 gráficos acima:**"
      ]
    },
    {
      "cell_type": "code",
      "metadata": {
        "colab": {
          "base_uri": "https://localhost:8080/",
          "height": 317
        },
        "id": "nC8qQG56sa9D",
        "outputId": "76c981bc-3b63-44f8-df49-c268cac3765a"
      },
      "source": [
        "df_setosa.groupby(df_setosa[\"species\"])[\"petal_length\"].plot()\n",
        "df_versicolor.groupby(df_versicolor[\"species\"])[\"petal_length\"].plot(color = \"green\")\n",
        "df_virginica.groupby(df_virginica[\"species\"])[\"petal_length\"].plot(color = \"black\")\n",
        "plt.title(\"Gráfico da petal_length versus species\")\n",
        "plt.xlabel(\"species\")\n",
        "plt.ylabel(\"petal_length\")\n",
        "plt.legend()\n",
        "#plt.savefig(\"todas_especies.png\")"
      ],
      "execution_count": 146,
      "outputs": [
        {
          "output_type": "execute_result",
          "data": {
            "text/plain": [
              "<matplotlib.legend.Legend at 0x7fd28014d5d0>"
            ]
          },
          "metadata": {
            "tags": []
          },
          "execution_count": 146
        },
        {
          "output_type": "display_data",
          "data": {
            "image/png": "[encoded data removed]",
            "text/plain": [
              "<Figure size 432x288 with 1 Axes>"
            ]
          },
          "metadata": {
            "tags": []
          }
        }
      ]
    },
    {
      "cell_type": "markdown",
      "metadata": {
        "id": "-uu6QWzdqFct"
      },
      "source": [
        "**Salvando os dataframes construídos, caso queira:**"
      ]
    },
    {
      "cell_type": "code",
      "metadata": {
        "id": "aZYP9hnphI-i"
      },
      "source": [
        "df_setosa.to_csv(\"setosa.csv\")\n",
        "df_versicolor.to_csv(\"versicolor.csv\")\n",
        "df_virginica.to_csv(\"virginica.csv\")"
      ],
      "execution_count": 147,
      "outputs": []
    },
    {
      "cell_type": "markdown",
      "metadata": {
        "id": "SFKO__e3qp0b"
      },
      "source": [
        "**Salvando os gráficos construídos, caso queira, basta colocar em cada plot**"
      ]
    },
    {
      "cell_type": "code",
      "metadata": {
        "id": "U4hb9wGsqpgk"
      },
      "source": [
        "#plt.savefig(\"imagem.png\")"
      ],
      "execution_count": 148,
      "outputs": []
    }
  ]
}